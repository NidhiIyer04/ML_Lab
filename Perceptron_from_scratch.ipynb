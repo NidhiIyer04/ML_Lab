{
  "nbformat": 4,
  "nbformat_minor": 0,
  "metadata": {
    "colab": {
      "provenance": []
    },
    "kernelspec": {
      "name": "python3",
      "display_name": "Python 3"
    },
    "language_info": {
      "name": "python"
    }
  },
  "cells": [
    {
      "cell_type": "code",
      "execution_count": null,
      "metadata": {
        "id": "IgiLP-zixGPo"
      },
      "outputs": [],
      "source": [
        "import matplotlib.pyplot as plt\n",
        "import numpy as np\n",
        "import pandas as pd"
      ]
    },
    {
      "cell_type": "code",
      "source": [
        "class Perceptron:\n",
        "  def __init__(self,n, neta=0.1):\n",
        "    self.w = np.random.randn(n+1) /np.sqrt(n) # The line initializes the weights of a model with random values that are normalized to ensure proper scaling, which can lead to better convergence during training\n",
        "    print(f\"initial weights before training: n{self.w}\")\n",
        "    self.neta = neta # LEARNING RATE\n",
        "  def StepFunction(self, w_sum):\n",
        "    if w_sum > 0:\n",
        "      return 1\n",
        "    else:\n",
        "      return 0\n",
        "  def fit(self, X, y, epochs=10):\n",
        "    X=np.c_[X,np.ones(X.shape[0])] #you are adding a new column (of ones) to the existing feature matrix X. This new column typically represents the bias term in linear models.\n",
        "    for epoch in range(epochs):\n",
        "      for (x, t) in zip(X, y):\n",
        "        o=self.StepFunction(np.dot(x, self.w))\n",
        "        if t!=o:\n",
        "          error=t-o\n",
        "          self.w += self.neta * error * x\n",
        "  def predict(self, X, bias=True):\n",
        "    X=np.atleast_2d(X)\n",
        "    if bias:\n",
        "      X=np.c_[X, np.ones(X.shape[0])]\n",
        "    return self.StepFunction(np.dot(X, self.w))"
      ],
      "metadata": {
        "id": "cdzUQQ7AxMlN"
      },
      "execution_count": null,
      "outputs": []
    },
    {
      "cell_type": "code",
      "source": [
        "#AND Gate\n",
        "X=np.array([[0,0],[0,1],[1,0],[1,1]])\n",
        "y=np.array([[0],[0],[0],[1]])\n",
        "model_or=Perceptron(X.shape[1], neta = 0.1)\n",
        "model_or.fit(X,y,epochs=10)\n",
        "for (x,t) in zip(X,y):\n",
        "  pred= model_or.predict(x)\n",
        "  print(f\"{x}, {t}, {pred}\")"
      ],
      "metadata": {
        "colab": {
          "base_uri": "https://localhost:8080/"
        },
        "id": "89QbeZDh1cFy",
        "outputId": "27c325f1-e1ae-46a0-eea7-f39d3271df8d"
      },
      "execution_count": null,
      "outputs": [
        {
          "output_type": "stream",
          "name": "stdout",
          "text": [
            "initial weights before training: n[ 0.34112409  0.32991063 -0.64018329]\n",
            "[0 0], [0], 0\n",
            "[0 1], [0], 0\n",
            "[1 0], [0], 0\n",
            "[1 1], [1], 1\n"
          ]
        }
      ]
    },
    {
      "cell_type": "code",
      "source": [
        "#OR Gate\n",
        "X=np.array([[0,0],[0,1],[1,0],[1,1]])\n",
        "y=np.array([[0],[1],[1],[1]])\n",
        "model_or=Perceptron(X.shape[1], neta = 0.1)\n",
        "model_or.fit(X,y,epochs=50)\n",
        "for (x,t) in zip(X,y):\n",
        "  pred= model_or.predict(x)\n",
        "  print(f\"{x}, {t}, {pred}\")"
      ],
      "metadata": {
        "colab": {
          "base_uri": "https://localhost:8080/"
        },
        "id": "OR6CohK_3g-D",
        "outputId": "41e87dfa-5303-4dbd-d6ad-c0ec7ec63a76"
      },
      "execution_count": null,
      "outputs": [
        {
          "output_type": "stream",
          "name": "stdout",
          "text": [
            "initial weights before training: n[-0.78305306  1.04126262  0.37365863]\n",
            "[0 0], [0], 0\n",
            "[0 1], [1], 1\n",
            "[1 0], [1], 1\n",
            "[1 1], [1], 1\n"
          ]
        }
      ]
    },
    {
      "cell_type": "code",
      "source": [
        "#XOR Gate\n",
        "X=np.array([[0,0],[0,1],[1,0],[1,1]])\n",
        "y=np.array([[0],[1],[1],[0]])\n",
        "model_or=Perceptron(X.shape[1], neta = 0.05)\n",
        "model_or.fit(X,y,epochs=40)\n",
        "for (x,t) in zip(X,y):\n",
        "  pred= model_or.predict(x)\n",
        "  print(f\"{x}, {t}, {pred}\")"
      ],
      "metadata": {
        "colab": {
          "base_uri": "https://localhost:8080/"
        },
        "id": "WCe4khSL3vCu",
        "outputId": "f113a9bb-6ec4-40a3-8bfc-6202ec8d6fe9"
      },
      "execution_count": null,
      "outputs": [
        {
          "output_type": "stream",
          "name": "stdout",
          "text": [
            "initial weights before training: n[ 0.91243442 -0.14640276  0.96662693]\n",
            "[0 0], [0], 1\n",
            "[0 1], [1], 0\n",
            "[1 0], [1], 0\n",
            "[1 1], [0], 0\n"
          ]
        }
      ]
    }
  ]
}