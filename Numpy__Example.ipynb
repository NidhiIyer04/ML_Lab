{
  "nbformat": 4,
  "nbformat_minor": 0,
  "metadata": {
    "colab": {
      "provenance": []
    },
    "kernelspec": {
      "name": "python3",
      "display_name": "Python 3"
    },
    "language_info": {
      "name": "python"
    }
  },
  "cells": [
    {
      "cell_type": "code",
      "execution_count": 2,
      "metadata": {
        "id": "HoMHMNKkRah0"
      },
      "outputs": [],
      "source": [
        "import numpy as np\n"
      ]
    },
    {
      "cell_type": "code",
      "source": [
        "############## 1. CREATING ARRAYS .    $$$$$$$$$$$$$$$$$$$$$$$$$$$$$$"
      ],
      "metadata": {
        "id": "2x25G9ixblfU"
      },
      "execution_count": 14,
      "outputs": []
    },
    {
      "cell_type": "code",
      "source": [
        "#2. Creating Arrays\n",
        "#Creating a 1D array:\n",
        "\n",
        "a = np.array([1, 2, 3, 4])\n",
        "print(a)\n"
      ],
      "metadata": {
        "colab": {
          "base_uri": "https://localhost:8080/"
        },
        "id": "OCQGyuizRtK8",
        "outputId": "6d101799-4085-483c-dc0a-c5c785351489"
      },
      "execution_count": 3,
      "outputs": [
        {
          "output_type": "stream",
          "name": "stdout",
          "text": [
            "[1 2 3 4]\n"
          ]
        }
      ]
    },
    {
      "cell_type": "code",
      "source": [
        "b = np.array([[1, 2, 3], [4, 5, 6]])\n",
        "print(b)\n"
      ],
      "metadata": {
        "colab": {
          "base_uri": "https://localhost:8080/"
        },
        "id": "UkbuNpPzarhK",
        "outputId": "b835a02b-e938-4ffd-9094-eed839e28974"
      },
      "execution_count": 4,
      "outputs": [
        {
          "output_type": "stream",
          "name": "stdout",
          "text": [
            "[[1 2 3]\n",
            " [4 5 6]]\n"
          ]
        }
      ]
    },
    {
      "cell_type": "code",
      "source": [
        "# Generates ..zeros as per the dimensions feed by the user.\n",
        "c = np.zeros((2, 3))\n",
        "print(c)\n"
      ],
      "metadata": {
        "colab": {
          "base_uri": "https://localhost:8080/"
        },
        "id": "V_Yn5W4ERzBw",
        "outputId": "bea1dcf8-3ad8-41ff-b22f-0c228df03c01"
      },
      "execution_count": 7,
      "outputs": [
        {
          "output_type": "stream",
          "name": "stdout",
          "text": [
            "[[0. 0. 0.]\n",
            " [0. 0. 0.]]\n"
          ]
        }
      ]
    },
    {
      "cell_type": "code",
      "source": [
        "# Generates ..ones as per the dimensions feed by the user.\n",
        "d = np.ones((3, 2))\n",
        "print(d)\n"
      ],
      "metadata": {
        "colab": {
          "base_uri": "https://localhost:8080/"
        },
        "id": "ZESIgEXoa28Q",
        "outputId": "237e16a8-0d5c-4652-b833-f7c2b02a156c"
      },
      "execution_count": 9,
      "outputs": [
        {
          "output_type": "stream",
          "name": "stdout",
          "text": [
            "[[1. 1.]\n",
            " [1. 1.]\n",
            " [1. 1.]]\n"
          ]
        }
      ]
    },
    {
      "cell_type": "code",
      "source": [
        "e = np.full((2, 2), 7)\n",
        "print(e)\n"
      ],
      "metadata": {
        "colab": {
          "base_uri": "https://localhost:8080/"
        },
        "id": "uEVWaBuKa8jO",
        "outputId": "718d2674-a7e3-4a89-ea8a-4ad8d77eb51f"
      },
      "execution_count": 10,
      "outputs": [
        {
          "output_type": "stream",
          "name": "stdout",
          "text": [
            "[[7 7]\n",
            " [7 7]]\n"
          ]
        }
      ]
    },
    {
      "cell_type": "code",
      "source": [
        "f = np.arange(20)  # Equivalent to range(10)\n",
        "print(f)\n"
      ],
      "metadata": {
        "colab": {
          "base_uri": "https://localhost:8080/"
        },
        "id": "hM5-zhx5bWnc",
        "outputId": "31d8f55e-ad72-4787-8aaf-a96ae2b723c3"
      },
      "execution_count": 12,
      "outputs": [
        {
          "output_type": "stream",
          "name": "stdout",
          "text": [
            "[ 0  1  2  3  4  5  6  7  8  9 10 11 12 13 14 15 16 17 18 19]\n"
          ]
        }
      ]
    },
    {
      "cell_type": "code",
      "source": [
        "g = np.linspace(0, 1, 5)  # 5 values from 0 to 1\n",
        "print(g)\n"
      ],
      "metadata": {
        "colab": {
          "base_uri": "https://localhost:8080/"
        },
        "id": "9CYDuDbnbbpr",
        "outputId": "9347b4cb-669f-4b4c-aca3-c185fa633292"
      },
      "execution_count": 13,
      "outputs": [
        {
          "output_type": "stream",
          "name": "stdout",
          "text": [
            "[0.   0.25 0.5  0.75 1.  ]\n"
          ]
        }
      ]
    },
    {
      "cell_type": "code",
      "source": [
        "#########################     Array Operations..............$$$$$$$$$$$$$"
      ],
      "metadata": {
        "id": "8yRINj-FbhNw"
      },
      "execution_count": 16,
      "outputs": []
    },
    {
      "cell_type": "code",
      "source": [
        "h = np.array([1, 2, 3])\n",
        "i = np.array([4, 5, 6])\n",
        "sum_array = h + i\n",
        "print(sum_array)\n"
      ],
      "metadata": {
        "colab": {
          "base_uri": "https://localhost:8080/"
        },
        "id": "_Ny_JLndb8tM",
        "outputId": "b6eeb6f8-4314-4402-ba85-197a4dd89ad6"
      },
      "execution_count": 17,
      "outputs": [
        {
          "output_type": "stream",
          "name": "stdout",
          "text": [
            "[5 7 9]\n"
          ]
        }
      ]
    },
    {
      "cell_type": "code",
      "source": [
        "product_array = h * i   #Elementwise multiplication\n",
        "print(product_array)\n"
      ],
      "metadata": {
        "colab": {
          "base_uri": "https://localhost:8080/"
        },
        "id": "YslAaQhZb_1I",
        "outputId": "3d653ffa-7122-45c0-a848-1a5bf56e5339"
      },
      "execution_count": 19,
      "outputs": [
        {
          "output_type": "stream",
          "name": "stdout",
          "text": [
            "[ 4 10 18]\n"
          ]
        }
      ]
    },
    {
      "cell_type": "code",
      "source": [
        "j = np.array([[1, 2], [3, 4]])  #Matrix multiplication:\n",
        "k = np.array([[5, 6], [7, 8]])\n",
        "matrix_product = np.dot(j, k)\n",
        "print(matrix_product)\n"
      ],
      "metadata": {
        "colab": {
          "base_uri": "https://localhost:8080/"
        },
        "id": "-g78XYtPcEtS",
        "outputId": "b395cd02-8408-4f2f-bc20-dd940aab3372"
      },
      "execution_count": 21,
      "outputs": [
        {
          "output_type": "stream",
          "name": "stdout",
          "text": [
            "[[19 22]\n",
            " [43 50]]\n"
          ]
        }
      ]
    },
    {
      "cell_type": "code",
      "source": [
        "## 4. Array Statistics"
      ],
      "metadata": {
        "id": "odrFOYlccfy1"
      },
      "execution_count": 23,
      "outputs": []
    },
    {
      "cell_type": "code",
      "source": [
        "#Mean of an array:\n",
        "mean_val = np.mean(f)\n",
        "print(mean_val)\n"
      ],
      "metadata": {
        "colab": {
          "base_uri": "https://localhost:8080/"
        },
        "id": "TMCOR20scrMg",
        "outputId": "70249958-b0f0-4583-8287-2146168e28a8"
      },
      "execution_count": 26,
      "outputs": [
        {
          "output_type": "stream",
          "name": "stdout",
          "text": [
            "9.5\n"
          ]
        }
      ]
    },
    {
      "cell_type": "code",
      "source": [
        "#Standard deviation of an array:\n",
        "\n",
        "\n",
        "std_dev = np.std(f)\n",
        "print(std_dev)"
      ],
      "metadata": {
        "colab": {
          "base_uri": "https://localhost:8080/"
        },
        "id": "l7Ryn3jpc3oI",
        "outputId": "aeec21f6-b2cb-46da-de97-b4bf2d2a74e1"
      },
      "execution_count": 27,
      "outputs": [
        {
          "output_type": "stream",
          "name": "stdout",
          "text": [
            "5.766281297335398\n"
          ]
        }
      ]
    },
    {
      "cell_type": "code",
      "source": [
        "#Sum of array elements:\n",
        "\n",
        "total_sum = np.sum(f)\n",
        "print(total_sum)"
      ],
      "metadata": {
        "colab": {
          "base_uri": "https://localhost:8080/"
        },
        "id": "1NbI3NRBc1Af",
        "outputId": "2b4a8a6c-777d-45e3-df64-56da0f380225"
      },
      "execution_count": 28,
      "outputs": [
        {
          "output_type": "stream",
          "name": "stdout",
          "text": [
            "190\n"
          ]
        }
      ]
    },
    {
      "cell_type": "code",
      "source": [
        "###   5. Reshaping Arrays"
      ],
      "metadata": {
        "id": "W2yyKJKbdFJM"
      },
      "execution_count": 29,
      "outputs": []
    },
    {
      "cell_type": "code",
      "source": [
        "reshaped = np.reshape(f, (4, 5))  ##Reshape a 1D array to 2D:\n",
        "print(reshaped)\n"
      ],
      "metadata": {
        "colab": {
          "base_uri": "https://localhost:8080/"
        },
        "id": "KqiV1tmjdJO6",
        "outputId": "89f6e4ab-b55c-4ace-b74b-4ee4d07eabdc"
      },
      "execution_count": 33,
      "outputs": [
        {
          "output_type": "stream",
          "name": "stdout",
          "text": [
            "[[ 0  1  2  3  4]\n",
            " [ 5  6  7  8  9]\n",
            " [10 11 12 13 14]\n",
            " [15 16 17 18 19]]\n"
          ]
        }
      ]
    },
    {
      "cell_type": "code",
      "source": [
        "#Flatten a 2D array:\n",
        "flattened = reshaped.flatten()\n",
        "print(flattened)\n"
      ],
      "metadata": {
        "colab": {
          "base_uri": "https://localhost:8080/"
        },
        "id": "RMKYZ8YBdL4Y",
        "outputId": "54135ff3-1b86-432a-82f5-1b957cd4f3cd"
      },
      "execution_count": 35,
      "outputs": [
        {
          "output_type": "stream",
          "name": "stdout",
          "text": [
            "[ 0  1  2  3  4  5  6  7  8  9 10 11 12 13 14 15 16 17 18 19]\n"
          ]
        }
      ]
    },
    {
      "cell_type": "code",
      "source": [
        "####   6. Array Indexing and Slicing"
      ],
      "metadata": {
        "id": "BQkc3L1Fdbm0"
      },
      "execution_count": 36,
      "outputs": []
    },
    {
      "cell_type": "code",
      "source": [
        "element = b[1, 2]  # Element at row 1, column 2\n",
        "print(element)\n"
      ],
      "metadata": {
        "colab": {
          "base_uri": "https://localhost:8080/"
        },
        "id": "pNKT0DTVdlOG",
        "outputId": "5ad8765d-8147-43c6-c9e4-077db221b42d"
      },
      "execution_count": 37,
      "outputs": [
        {
          "output_type": "stream",
          "name": "stdout",
          "text": [
            "6\n"
          ]
        }
      ]
    },
    {
      "cell_type": "code",
      "source": [
        "slice_array = b[0:2, 1:3]   #Slicing an array:\n",
        "print(slice_array)\n"
      ],
      "metadata": {
        "colab": {
          "base_uri": "https://localhost:8080/"
        },
        "id": "NRaiURFpdny3",
        "outputId": "d6b7c86a-16c3-49c6-868d-7202da956c93"
      },
      "execution_count": 39,
      "outputs": [
        {
          "output_type": "stream",
          "name": "stdout",
          "text": [
            "[[2 3]\n",
            " [5 6]]\n"
          ]
        }
      ]
    },
    {
      "cell_type": "code",
      "source": [
        "####  7. Applying Functions"
      ],
      "metadata": {
        "id": "_TOm1dTPdq7a"
      },
      "execution_count": 40,
      "outputs": []
    },
    {
      "cell_type": "code",
      "source": [
        "# Apply a function to each element:\n",
        "\n",
        "squared_array = np.sqrt(f)\n",
        "print(squared_array)\n"
      ],
      "metadata": {
        "colab": {
          "base_uri": "https://localhost:8080/"
        },
        "id": "8nIw-WiZdzpI",
        "outputId": "afe64193-2fdd-455a-91e0-7f18c20c9c4b"
      },
      "execution_count": 41,
      "outputs": [
        {
          "output_type": "stream",
          "name": "stdout",
          "text": [
            "[0.         1.         1.41421356 1.73205081 2.         2.23606798\n",
            " 2.44948974 2.64575131 2.82842712 3.         3.16227766 3.31662479\n",
            " 3.46410162 3.60555128 3.74165739 3.87298335 4.         4.12310563\n",
            " 4.24264069 4.35889894]\n"
          ]
        }
      ]
    },
    {
      "cell_type": "code",
      "source": [
        "#  Apply a function along an axis:\n",
        "\n",
        "print(b)\n",
        "print()\n",
        "\n",
        "sum_axis0 = np.sum(b, axis=0)  # Sum along rows\n",
        "print(sum_axis0)\n",
        "\n",
        "sum_axis1 = np.sum(b, axis=1)  # Sum along columns\n",
        "print(sum_axis1)\n"
      ],
      "metadata": {
        "colab": {
          "base_uri": "https://localhost:8080/"
        },
        "id": "llDn2QXod4yQ",
        "outputId": "d9d5d175-4cf8-40a6-f785-57bcaa8eb140"
      },
      "execution_count": 44,
      "outputs": [
        {
          "output_type": "stream",
          "name": "stdout",
          "text": [
            "[[1 2 3]\n",
            " [4 5 6]]\n",
            "\n",
            "[5 7 9]\n",
            "[ 6 15]\n"
          ]
        }
      ]
    },
    {
      "cell_type": "code",
      "source": [
        "###   8. Random Numbers\n"
      ],
      "metadata": {
        "id": "uN1yaDYpd_kb"
      },
      "execution_count": 45,
      "outputs": []
    },
    {
      "cell_type": "code",
      "source": [
        "random_ints = np.random.randint(0, 10, size=(2, 3))   # Generate random integer\n",
        "print(random_ints)\n"
      ],
      "metadata": {
        "colab": {
          "base_uri": "https://localhost:8080/"
        },
        "id": "gwh3K8ySeROR",
        "outputId": "d2228350-1c19-4194-e647-b1f986f4bebc"
      },
      "execution_count": 48,
      "outputs": [
        {
          "output_type": "stream",
          "name": "stdout",
          "text": [
            "[[2 6 0]\n",
            " [6 2 0]]\n"
          ]
        }
      ]
    },
    {
      "cell_type": "code",
      "source": [
        "random_floats = np.random.random((2, 2))  # Generate Random Floats\n",
        "print(random_floats)\n"
      ],
      "metadata": {
        "colab": {
          "base_uri": "https://localhost:8080/"
        },
        "id": "P5T0-tPweWoZ",
        "outputId": "bdc3adf4-fa70-44d5-fc87-dbed01843e69"
      },
      "execution_count": 50,
      "outputs": [
        {
          "output_type": "stream",
          "name": "stdout",
          "text": [
            "[[0.15120192 0.46644157]\n",
            " [0.40234905 0.27096769]]\n"
          ]
        }
      ]
    },
    {
      "cell_type": "code",
      "source": [
        "####### LINEAR ALGEBRA APPLICATIONS $$$$$$$$$$$$$$$"
      ],
      "metadata": {
        "id": "pEDsyuFmedPb"
      },
      "execution_count": 51,
      "outputs": []
    },
    {
      "cell_type": "code",
      "source": [
        "### Matrix Multiplication\n",
        "#Matrix multiplication is fundamental in linear algebra. NumPy uses the np.dot() function or the @ operator for this purpose.\n",
        "\n",
        "A = np.array([[1, 2], [3, 4]])\n",
        "B = np.array([[5, 6], [7, 8]])\n",
        "\n",
        "# Matrix multiplication\n",
        "C = np.dot(A, B)\n",
        "# Alternatively: C = A @ B\n",
        "\n",
        "print(C)\n"
      ],
      "metadata": {
        "colab": {
          "base_uri": "https://localhost:8080/"
        },
        "id": "OLI5jVfVfB7J",
        "outputId": "bd740613-de15-4e35-8705-347a2238537b"
      },
      "execution_count": 53,
      "outputs": [
        {
          "output_type": "stream",
          "name": "stdout",
          "text": [
            "[[19 22]\n",
            " [43 50]]\n"
          ]
        }
      ]
    },
    {
      "cell_type": "code",
      "source": [
        "#Solving Linear Systems\n",
        "#You can solve systems of linear equations\n",
        "\n",
        "#Ax=b using the np.linalg.solve() function."
      ],
      "metadata": {
        "id": "ZgeUzq9rfQ5U"
      },
      "execution_count": 54,
      "outputs": []
    },
    {
      "cell_type": "code",
      "source": [
        "A = np.array([[3, 2], [1, 2]])\n",
        "b = np.array([5, 6])\n",
        "\n",
        "# Solve for x\n",
        "x = np.linalg.solve(A, b)\n",
        "print(x)\n"
      ],
      "metadata": {
        "colab": {
          "base_uri": "https://localhost:8080/"
        },
        "id": "h3eg7rlpfj1x",
        "outputId": "6c1dd52c-e6f5-4ac5-c78f-a838dd5e006a"
      },
      "execution_count": 55,
      "outputs": [
        {
          "output_type": "stream",
          "name": "stdout",
          "text": [
            "[-0.5   3.25]\n"
          ]
        }
      ]
    },
    {
      "cell_type": "code",
      "source": [
        "#3. Matrix Decomposition\n",
        "#Matrix decompositions such as LU decomposition, QR decomposition, and Singular Value Decomposition (SVD) are crucial in numerical analysis.\n",
        "\n",
        "#LU Decomposition\n",
        "from scipy.linalg import lu\n",
        "\n",
        "A = np.array([[3, 2], [1, 2]])\n",
        "\n",
        "# LU decomposition\n",
        "P, L, U = lu(A)\n",
        "print(\"P:\", P)\n",
        "print(\"L:\", L)\n",
        "print(\"U:\", U)\n"
      ],
      "metadata": {
        "colab": {
          "base_uri": "https://localhost:8080/"
        },
        "id": "8aP2hsGGfmQu",
        "outputId": "a63ede00-ee71-40da-bbf8-04d052273791"
      },
      "execution_count": 56,
      "outputs": [
        {
          "output_type": "stream",
          "name": "stdout",
          "text": [
            "P: [[1. 0.]\n",
            " [0. 1.]]\n",
            "L: [[1.         0.        ]\n",
            " [0.33333333 1.        ]]\n",
            "U: [[3.         2.        ]\n",
            " [0.         1.33333333]]\n"
          ]
        }
      ]
    },
    {
      "cell_type": "code",
      "source": [
        "#4. Eigenvalues and Eigenvectors\n",
        "#  Finding eigenvalues and eigenvectors is essential in various fields, including stability analysis and principal component analysis (PCA)."
      ],
      "metadata": {
        "id": "mtKQtO60fwK8"
      },
      "execution_count": 57,
      "outputs": []
    },
    {
      "cell_type": "code",
      "source": [
        "A = np.array([[4, 2], [1, 3]])\n",
        "\n",
        "# Compute eigenvalues and eigenvectors\n",
        "eigenvalues, eigenvectors = np.linalg.eig(A)\n",
        "print(\"Eigenvalues:\", eigenvalues)\n",
        "print(\"Eigenvectors:\", eigenvectors)\n"
      ],
      "metadata": {
        "colab": {
          "base_uri": "https://localhost:8080/"
        },
        "id": "Zd5Vlnbcf2tv",
        "outputId": "10d9e067-80c3-4b69-c716-81ccc2c6508b"
      },
      "execution_count": 58,
      "outputs": [
        {
          "output_type": "stream",
          "name": "stdout",
          "text": [
            "Eigenvalues: [5. 2.]\n",
            "Eigenvectors: [[ 0.89442719 -0.70710678]\n",
            " [ 0.4472136   0.70710678]]\n"
          ]
        }
      ]
    },
    {
      "cell_type": "code",
      "source": [
        "#5. Matrix Determinant\n",
        "#The determinant of a matrix is a scalar value that can be used to determine if a matrix is invertible and other properties."
      ],
      "metadata": {
        "id": "THBjjHqDf6xA"
      },
      "execution_count": 59,
      "outputs": []
    },
    {
      "cell_type": "code",
      "source": [
        "A = np.array([[1, 2], [3, 4]])\n",
        "\n",
        "# Compute determinant\n",
        "det = np.linalg.det(A)\n",
        "print(\"Determinant:\", det)\n"
      ],
      "metadata": {
        "colab": {
          "base_uri": "https://localhost:8080/"
        },
        "id": "hlEV48yDgCXp",
        "outputId": "2fbeecad-ed54-4b32-f4cf-4ee73b4cdef1"
      },
      "execution_count": 60,
      "outputs": [
        {
          "output_type": "stream",
          "name": "stdout",
          "text": [
            "Determinant: -2.0000000000000004\n"
          ]
        }
      ]
    },
    {
      "cell_type": "code",
      "source": [
        "#  6. Matrix Inversion\n",
        "# Inverting a matrix is necessary for solving linear systems and other applications."
      ],
      "metadata": {
        "id": "wBui3_62gH1D"
      },
      "execution_count": 61,
      "outputs": []
    },
    {
      "cell_type": "code",
      "source": [
        "A = np.array([[1, 2], [3, 4]])\n",
        "\n",
        "# Compute the inverse\n",
        "A_inv = np.linalg.inv(A)\n",
        "print(\"Inverse of A:\\n\", A_inv)\n"
      ],
      "metadata": {
        "colab": {
          "base_uri": "https://localhost:8080/"
        },
        "id": "lLlyuBHygQea",
        "outputId": "4cf5e6b8-74aa-48f1-95c4-868b204e705e"
      },
      "execution_count": 62,
      "outputs": [
        {
          "output_type": "stream",
          "name": "stdout",
          "text": [
            "Inverse of A:\n",
            " [[-2.   1. ]\n",
            " [ 1.5 -0.5]]\n"
          ]
        }
      ]
    },
    {
      "cell_type": "code",
      "source": [
        "#7. Norms\n",
        "#Matrix norms and vector norms help in assessing the magnitude of vectors and matrices."
      ],
      "metadata": {
        "id": "H3Q4gSvYgStu"
      },
      "execution_count": 63,
      "outputs": []
    },
    {
      "cell_type": "code",
      "source": [
        "v = np.array([1, 2, 3])\n",
        "\n",
        "# Compute L2 norm (Euclidean norm)\n",
        "norm_v = np.linalg.norm(v)\n",
        "print(\"Norm of v:\", norm_v)\n"
      ],
      "metadata": {
        "colab": {
          "base_uri": "https://localhost:8080/"
        },
        "id": "6zh-4Nm5ghrh",
        "outputId": "c7a7179e-d5ae-4364-c5d6-b5b12f288fab"
      },
      "execution_count": 64,
      "outputs": [
        {
          "output_type": "stream",
          "name": "stdout",
          "text": [
            "Norm of v: 3.7416573867739413\n"
          ]
        }
      ]
    },
    {
      "cell_type": "code",
      "source": [
        "##8. Rank of a Matrix\n",
        "##  Determining the rank of a matrix helps in understanding its properties."
      ],
      "metadata": {
        "id": "qOWM8_OBgoBh"
      },
      "execution_count": 65,
      "outputs": []
    },
    {
      "cell_type": "code",
      "source": [
        "A = np.array([[6, 8], [3, 4]])\n",
        "\n",
        "# Compute the rank\n",
        "rank_A = np.linalg.matrix_rank(A)\n",
        "print(\"Rank of A:\", rank_A)\n"
      ],
      "metadata": {
        "colab": {
          "base_uri": "https://localhost:8080/"
        },
        "id": "PPg664N8gvr7",
        "outputId": "d3b0a7fa-4b2c-4df5-ed80-3047eb0c5533"
      },
      "execution_count": 69,
      "outputs": [
        {
          "output_type": "stream",
          "name": "stdout",
          "text": [
            "Rank of A: 1\n"
          ]
        }
      ]
    },
    {
      "cell_type": "code",
      "source": [
        ""
      ],
      "metadata": {
        "id": "m2HdrvVTgxiB"
      },
      "execution_count": null,
      "outputs": []
    }
  ]
}